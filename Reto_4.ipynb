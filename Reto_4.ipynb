{
 "cells": [
  {
   "cell_type": "markdown",
   "metadata": {},
   "source": [
    "# Reto numero 4\n",
    "1.Dado un número entero, determinar si ese número corresponde al código ASCII de una vocal minúscula."
   ]
  },
  {
   "cell_type": "code",
   "execution_count": 3,
   "metadata": {},
   "outputs": [
    {
     "name": "stdout",
     "output_type": "stream",
     "text": [
      "El numero 111 corresponde a la vocal o en codigo ASCII\n"
     ]
    }
   ],
   "source": [
    "num = int (input (\"Ingrese un numero entero\"))\n",
    "if (num == 97):\n",
    "    print (f\"El numero {num} corresponde a la vocal {chr(num)} en codigo ASCII\")\n",
    "elif (num == 101):\n",
    "    print (f\"El numero {num} corresponde a la vocal {chr(num)} en codigo ASCII\")\n",
    "elif (num == 105):\n",
    "    print (f\"El numero {num} corresponde a la vocal {chr(num)} en codigo ASCII\")\n",
    "elif (num == 111):\n",
    "    print (f\"El numero {num} corresponde a la vocal {chr(num)} en codigo ASCII\")\n",
    "elif (num == 117):\n",
    "    print (f\"El numero {num} corresponde a la vocal {chr(num)} en codigo ASCII\")\n",
    "else:\n",
    "    print (f\"El numero {num} no corresponde a ninguna vocal minuscula en el codigo ASCII\")\n",
    "\n"
   ]
  },
  {
   "cell_type": "markdown",
   "metadata": {},
   "source": [
    "2.Dada una cadena de longitud 1, determine si el código ASCII de primera letra de la cadena es par o no."
   ]
  },
  {
   "cell_type": "code",
   "execution_count": 7,
   "metadata": {},
   "outputs": [
    {
     "name": "stdout",
     "output_type": "stream",
     "text": [
      "La letra t corresponde al numero 116 en ASCII\n",
      "La letra t tiene un codigo 116 el cual es PAR\n"
     ]
    }
   ],
   "source": [
    "letra : str; conversion : int\n",
    "letra = str (input (\"Ingrese una letra\"))\n",
    "conversion = ord(letra)\n",
    "if (conversion %2 == 0):\n",
    "    print (f\"La letra {letra} corresponde al codigo ASCII {conversion} el cual es PAR\")\n",
    "else:\n",
    "    print (f\"La letra {letra} tiene un codigo {conversion} el cual es PAR\")\n"
   ]
  },
  {
   "cell_type": "markdown",
   "metadata": {},
   "source": [
    "3.Dado un carácter, construya un programa en Python para determinar si el carácter es un dígito o no."
   ]
  },
  {
   "cell_type": "code",
   "execution_count": 13,
   "metadata": {},
   "outputs": [
    {
     "name": "stdout",
     "output_type": "stream",
     "text": [
      "El caracter 0 segun el codigo ASCII es un digito y tiene el codigo: 48\n"
     ]
    }
   ],
   "source": [
    "caracter = str (input (\"Ingrese un caracter\"))\n",
    "conversion = ord (caracter)\n",
    "if (48 <= conversion <= 57):\n",
    "    print (f\"El caracter {caracter} segun el codigo ASCII es un digito y tiene el codigo: {conversion}\")\n",
    "else:\n",
    "    print (f\"El caracter {caracter} segun el codigo ASCII no es un digito\")\n"
   ]
  },
  {
   "cell_type": "markdown",
   "metadata": {},
   "source": [
    "4.Dado un número real x, construya un programa que permita determinar si el número es positivo, negativo o cero. Para cada caso de debe imprimir el texto que se especifica a continuación:"
   ]
  },
  {
   "cell_type": "code",
   "execution_count": 14,
   "metadata": {},
   "outputs": [
    {
     "name": "stdout",
     "output_type": "stream",
     "text": [
      "EL numero -84.2 es negativo\n"
     ]
    }
   ],
   "source": [
    "num: float\n",
    "num = float (input(\"Ingrese un numero real\"))\n",
    "if (num > 0):\n",
    "    print (f\"El numero {num} es positivo\")\n",
    "elif (num < 0):\n",
    "    print (f\"El numero {num} es negativo\")\n",
    "else:\n",
    "    print (f\"El numero {num} es neutro para la suma\")\n"
   ]
  },
  {
   "cell_type": "markdown",
   "metadata": {},
   "source": [
    "5.Dado el centro y el radio de un círculo, determinar si un punto de R2 pertenece o no al interior del círculo."
   ]
  },
  {
   "cell_type": "code",
   "execution_count": 1,
   "metadata": {},
   "outputs": [
    {
     "name": "stdout",
     "output_type": "stream",
     "text": [
      "El punto 6.0,-6.0 esta dentro del circulo\n"
     ]
    }
   ],
   "source": [
    "centro_x : float; centro_y : float; radio_circulo : float; cordenada_x_2 : float; cordenada_y_2 : float\n",
    "centro_x = float (input(\"Ingrese la cordenada del centro del circulo en X: \"))\n",
    "centro_y = float (input(\"Ingrese la cordenada del centro del circulo en Y: \"))\n",
    "radio_circulo = float (input(\"Ingrese el radio del circulo: \"))\n",
    "cordenada_x_2 = float (input(\"Ingrese la cordenada del punto 2 en X: \"))\n",
    "cordenada_y_2 = float (input(\"Ingrese la cordenada del punto 2 en Y: \"))\n",
    "\n",
    "distancia = ((cordenada_x_2-centro_x)**2 + (cordenada_y_2-centro_y**2))**1/2\n",
    "if (distancia <= radio_circulo):\n",
    "    print (f\"El punto ({cordenada_x_2},{cordenada_y_2} ) esta dentro del circulo\")\n",
    "else:\n",
    "    print (f\"El punto ( {cordenada_x_2},{cordenada_y_2}) NO esta dentro del circulo\")"
   ]
  },
  {
   "cell_type": "markdown",
   "metadata": {},
   "source": [
    "6.Dadas tres longitudes positivas, determinar si con esas longitudes se puede construir un triángulo."
   ]
  },
  {
   "cell_type": "code",
   "execution_count": 3,
   "metadata": {},
   "outputs": [
    {
     "name": "stdout",
     "output_type": "stream",
     "text": [
      "Es posible construir un triangulo\n"
     ]
    }
   ],
   "source": [
    "lado_1 : float; lado_2 : float; lado_3 : float; suma : float\n",
    "lado_1 = float (input(\"Ingrese el lado 1\"))\n",
    "lado_2 = float (input(\"Ingrese el lado 2\"))\n",
    "lado_3 = float (input(\"Ingrese el lado 3\"))\n",
    "\n",
    "if (lado_1 > lado_2 and lado_1 >lado_3):\n",
    "    suma = lado_2 + lado_3\n",
    "    if (suma > lado_1):\n",
    "        print (f\"Es posible construir un triangulo\")\n",
    "elif (lado_2 > lado_1 and lado_2 >lado_3):\n",
    "    suma = lado_1 + lado_3\n",
    "    if (suma > lado_2):\n",
    "        print (f\"Es posible construir un triangulo\")\n",
    "elif (lado_3 > lado_2 and lado_3 >lado_1):\n",
    "    suma = lado_2 + lado_1\n",
    "    if (suma > lado_3):\n",
    "        print (f\"Es posible construir un triangulo\")\n",
    "else: \n",
    "    print (\"No es posible contruir un triangulo con esas longitudes\")"
   ]
  }
 ],
 "metadata": {
  "kernelspec": {
   "display_name": "Python 3",
   "language": "python",
   "name": "python3"
  },
  "language_info": {
   "codemirror_mode": {
    "name": "ipython",
    "version": 3
   },
   "file_extension": ".py",
   "mimetype": "text/x-python",
   "name": "python",
   "nbconvert_exporter": "python",
   "pygments_lexer": "ipython3",
   "version": "3.12.2"
  }
 },
 "nbformat": 4,
 "nbformat_minor": 2
}
